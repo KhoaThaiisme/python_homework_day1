{
 "cells": [
  {
   "cell_type": "markdown",
   "metadata": {},
   "source": [
    "# Week 2 - Monday Lesson (variable assignment, loops, lists)"
   ]
  },
  {
   "cell_type": "markdown",
   "metadata": {},
   "source": [
    "## Tasks Today:\n",
    "\n",
    "1) Int & Float assignments <br>\n",
    " &nbsp;&nbsp;&nbsp;&nbsp; a) Assigning int <br>\n",
    " &nbsp;&nbsp;&nbsp;&nbsp; b) Assigning float <br>\n",
    " &nbsp;&nbsp;&nbsp;&nbsp; c) Performing Calculations on ints and floats <br>\n",
    " &nbsp;&nbsp;&nbsp;&nbsp;&nbsp;&nbsp;&nbsp;&nbsp; - Addition <br>\n",
    " &nbsp;&nbsp;&nbsp;&nbsp;&nbsp;&nbsp;&nbsp;&nbsp; - Subtraction <br>\n",
    " &nbsp;&nbsp;&nbsp;&nbsp;&nbsp;&nbsp;&nbsp;&nbsp; - Multiplication <br>\n",
    " &nbsp;&nbsp;&nbsp;&nbsp;&nbsp;&nbsp;&nbsp;&nbsp; - Division <br>\n",
    " &nbsp;&nbsp;&nbsp;&nbsp;&nbsp;&nbsp;&nbsp;&nbsp; - Floor Division <br>\n",
    " &nbsp;&nbsp;&nbsp;&nbsp;&nbsp;&nbsp;&nbsp;&nbsp; - Modulo <br>\n",
    " &nbsp;&nbsp;&nbsp;&nbsp;&nbsp;&nbsp;&nbsp;&nbsp; - Exponential <br>\n",
    "2) String Input-Output <br>\n",
    " &nbsp;&nbsp;&nbsp;&nbsp; a) String Assignment <br>\n",
    " &nbsp;&nbsp;&nbsp;&nbsp; b) print() <br>\n",
    " &nbsp;&nbsp;&nbsp;&nbsp; c) String Concatenation <br>\n",
    " &nbsp;&nbsp;&nbsp;&nbsp; d) Type Conversion <br>\n",
    " &nbsp;&nbsp;&nbsp;&nbsp; e) input() <br>\n",
    " &nbsp;&nbsp;&nbsp;&nbsp; f) format() <br>\n",
    " &nbsp;&nbsp;&nbsp;&nbsp; g) Old Way (python 2) <br>\n",
    "3) <b>In-Class Exercise #1</b> <br>\n",
    "4) If Statements <br>\n",
    " &nbsp;&nbsp;&nbsp;&nbsp; a) 'is' keyword <br>\n",
    " &nbsp;&nbsp;&nbsp;&nbsp; b) 'in' keyword <br>\n",
    " &nbsp;&nbsp;&nbsp;&nbsp; c) 'not in' keyword <br>\n",
    "5) <b>In-Class Exercise #2</b> <br>\n",
    "6) Elif Statements <br>\n",
    "7) Else Statements <br>\n",
    "8) <b>In-Class Exercise #3</b> <br>\n",
    "9) For Loops <br>\n",
    " &nbsp;&nbsp;&nbsp;&nbsp; a) Using 'in' keyword <br>\n",
    " &nbsp;&nbsp;&nbsp;&nbsp; b) Continue Statement <br>\n",
    " &nbsp;&nbsp;&nbsp;&nbsp; c) Break Statement <br>\n",
    " &nbsp;&nbsp;&nbsp;&nbsp; d) Pass Statement <br>\n",
    " &nbsp;&nbsp;&nbsp;&nbsp; e) Double For Loops <br>\n",
    "10) While Loops <br>\n",
    " &nbsp;&nbsp;&nbsp;&nbsp; a) Looping 'While True' <br>\n",
    " &nbsp;&nbsp;&nbsp;&nbsp; b) While and For Loops Used Together <br>\n",
    "11) Built-In Functions <br>\n",
    " &nbsp;&nbsp;&nbsp;&nbsp; a) range() <br>\n",
    " &nbsp;&nbsp;&nbsp;&nbsp; b) len() <br>\n",
    " &nbsp;&nbsp;&nbsp;&nbsp; c) help() <br>\n",
    " &nbsp;&nbsp;&nbsp;&nbsp; d) isinstance() <br>\n",
    " &nbsp;&nbsp;&nbsp;&nbsp; e) abs() <br>\n",
    "12) Try and Except <br>\n",
    "13) Lists <br>\n",
    " &nbsp;&nbsp;&nbsp;&nbsp; a) Declaring Lists <br>\n",
    " &nbsp;&nbsp;&nbsp;&nbsp; b) Indexing a List <br>\n",
    " &nbsp;&nbsp;&nbsp;&nbsp; c) .append() <br>\n",
    " &nbsp;&nbsp;&nbsp;&nbsp; d) .insert() <br>\n",
    " &nbsp;&nbsp;&nbsp;&nbsp; e) .pop() <br>\n",
    " &nbsp;&nbsp;&nbsp;&nbsp; f) .remove() <br>\n",
    " &nbsp;&nbsp;&nbsp;&nbsp; g) del() <br>\n",
    " &nbsp;&nbsp;&nbsp;&nbsp; h) Concatenating Two Lists <br>\n",
    " &nbsp;&nbsp;&nbsp;&nbsp; i) Lists Within Lists <br>\n",
    " &nbsp;&nbsp;&nbsp;&nbsp; j) Looping Through Lists <br>"
   ]
  },
  {
   "cell_type": "markdown",
   "metadata": {},
   "source": [
    "### Int & Float Assignments"
   ]
  },
  {
   "cell_type": "markdown",
   "metadata": {},
   "source": [
    "##### Assigning int"
   ]
  },
  {
   "cell_type": "code",
   "execution_count": 2,
   "metadata": {},
   "outputs": [],
   "source": [
    "# Integer is a whole number\n",
    "favorite_number = 23"
   ]
  },
  {
   "cell_type": "code",
   "execution_count": null,
   "metadata": {},
   "outputs": [],
   "source": [
    "# snake_case \n",
    "snake_case_variable = 'python best practice'\n",
    "\n",
    "# camelCase \n",
    "camelCaseJavaScript = 'javascript best practice'"
   ]
  },
  {
   "cell_type": "markdown",
   "metadata": {},
   "source": [
    "##### Assinging float"
   ]
  },
  {
   "cell_type": "code",
   "execution_count": 4,
   "metadata": {},
   "outputs": [],
   "source": [
    "# Float is a number with decimal\n",
    "\n",
    "a_float = 1.5"
   ]
  },
  {
   "cell_type": "markdown",
   "metadata": {},
   "source": [
    "#### Performing Calculations on ints and floats"
   ]
  },
  {
   "cell_type": "markdown",
   "metadata": {},
   "source": [
    "##### Addition"
   ]
  },
  {
   "cell_type": "code",
   "execution_count": 3,
   "metadata": {},
   "outputs": [
    {
     "name": "stdout",
     "output_type": "stream",
     "text": [
      "10\n",
      "28\n"
     ]
    }
   ],
   "source": [
    "print(5+5)\n",
    "\n",
    "print(favorite_number + 5)"
   ]
  },
  {
   "cell_type": "markdown",
   "metadata": {},
   "source": [
    "##### Subtraction"
   ]
  },
  {
   "cell_type": "code",
   "execution_count": 6,
   "metadata": {},
   "outputs": [
    {
     "name": "stdout",
     "output_type": "stream",
     "text": [
      "5\n",
      "13\n",
      "13\n"
     ]
    }
   ],
   "source": [
    "print(10 - 5)\n",
    "\n",
    "print(favorite_number - 10)\n",
    "\n",
    "# resassinging number\n",
    "favorite_number -= 10\n",
    "print(favorite_number)"
   ]
  },
  {
   "cell_type": "markdown",
   "metadata": {},
   "source": [
    "##### Multiplication"
   ]
  },
  {
   "cell_type": "code",
   "execution_count": 10,
   "metadata": {},
   "outputs": [
    {
     "name": "stdout",
     "output_type": "stream",
     "text": [
      "10\n",
      "-3159\n",
      "-3159\n",
      "9477\n"
     ]
    }
   ],
   "source": [
    "print(5*2)\n",
    "\n",
    "print(favorite_number * 3)\n",
    "# reassign\n",
    "# long hand\n",
    "favorite_number = favorite_number * 3\n",
    "print(favorite_number)\n",
    "# short hand version\n",
    "favorite_number *= -3\n",
    "print(favorite_number)"
   ]
  },
  {
   "cell_type": "markdown",
   "metadata": {},
   "source": [
    "##### Division"
   ]
  },
  {
   "cell_type": "code",
   "execution_count": 12,
   "metadata": {},
   "outputs": [
    {
     "name": "stdout",
     "output_type": "stream",
     "text": [
      "5.0\n",
      "3159.0\n",
      "9477\n",
      "3159.0\n"
     ]
    }
   ],
   "source": [
    "print(10/2)\n",
    "\n",
    "print(favorite_number / 3)\n",
    "# still holding original value\n",
    "print(favorite_number)\n",
    "\n",
    "favorite_number /= 3\n",
    "print(favorite_number)"
   ]
  },
  {
   "cell_type": "markdown",
   "metadata": {},
   "source": [
    "##### Floor Division"
   ]
  },
  {
   "cell_type": "code",
   "execution_count": 14,
   "metadata": {},
   "outputs": [
    {
     "name": "stdout",
     "output_type": "stream",
     "text": [
      "5\n",
      "351.0\n",
      "5.0\n",
      "True\n"
     ]
    }
   ],
   "source": [
    "# output the original data type between int // float\n",
    "print(11//2)\n",
    "\n",
    "# reassigning with floor division\n",
    "favorite_number //= 9\n",
    "print(favorite_number)\n",
    "\n",
    "print(11.5 // 2)\n",
    "\n",
    "print(5.0 == 5)\n"
   ]
  },
  {
   "cell_type": "markdown",
   "metadata": {},
   "source": [
    "##### Modulo"
   ]
  },
  {
   "cell_type": "code",
   "execution_count": 17,
   "metadata": {},
   "outputs": [
    {
     "name": "stdout",
     "output_type": "stream",
     "text": [
      "0\n",
      "1\n",
      "24\n"
     ]
    }
   ],
   "source": [
    "print(10 % 2)\n",
    "\n",
    "print(11 % 2)\n",
    "\n",
    "print(124 % 25)"
   ]
  },
  {
   "cell_type": "markdown",
   "metadata": {},
   "source": [
    "##### Exponential"
   ]
  },
  {
   "cell_type": "code",
   "execution_count": 19,
   "metadata": {},
   "outputs": [
    {
     "name": "stdout",
     "output_type": "stream",
     "text": [
      "100\n",
      "1000\n",
      "100\n",
      "10000\n"
     ]
    }
   ],
   "source": [
    "# **\n",
    "# squaring\n",
    "print(10**2)\n",
    "\n",
    "print(10**3)\n",
    "\n",
    "my_num = 10\n",
    "# reassigning\n",
    "# long hand\n",
    "my_num = my_num ** 2\n",
    "print(my_num)\n",
    "# short hand\n",
    "my_num **= 2\n",
    "print(my_num)"
   ]
  },
  {
   "cell_type": "markdown",
   "metadata": {},
   "source": [
    "### String Input-Output"
   ]
  },
  {
   "cell_type": "markdown",
   "metadata": {},
   "source": [
    "##### String Assignment"
   ]
  },
  {
   "cell_type": "code",
   "execution_count": 22,
   "metadata": {},
   "outputs": [
    {
     "name": "stdout",
     "output_type": "stream",
     "text": [
      "<class 'str'>\n",
      "<class 'int'>\n"
     ]
    }
   ],
   "source": [
    "instructor = 'Sean'\n",
    "\n",
    "print(type(instructor))\n",
    "\n",
    "num_string = 500\n",
    "\n",
    "print(type(num_string))"
   ]
  },
  {
   "cell_type": "markdown",
   "metadata": {},
   "source": [
    "##### print() <br>\n",
    "<p>Don't forget about end=' '</p>"
   ]
  },
  {
   "cell_type": "code",
   "execution_count": 29,
   "metadata": {},
   "outputs": [
    {
     "name": "stdout",
     "output_type": "stream",
     "text": [
      "Sean Currie hello world\n"
     ]
    }
   ],
   "source": [
    "# end by default is new line /n can overwrite by adding end argument\n",
    "print(instructor, end=' Currie ')\n",
    "print('hello world')"
   ]
  },
  {
   "cell_type": "markdown",
   "metadata": {},
   "source": [
    "##### String Concatenation"
   ]
  },
  {
   "cell_type": "code",
   "execution_count": 32,
   "metadata": {},
   "outputs": [
    {
     "name": "stdout",
     "output_type": "stream",
     "text": [
      "Agent Smith\n",
      "dylan smith\n",
      "dylan smith jr\n"
     ]
    }
   ],
   "source": [
    "first_name = 'Agent'\n",
    "last_name = 'Smith'\n",
    "\n",
    "full_name = first_name + ' ' + last_name\n",
    "print(full_name)\n",
    "\n",
    "# reassigning\n",
    "my_name = 'dylan'\n",
    "# long hand\n",
    "my_name = my_name + ' smith'\n",
    "print(my_name)\n",
    "\n",
    "# short version\n",
    "my_name += ' jr'\n",
    "\n",
    "print(my_name)"
   ]
  },
  {
   "cell_type": "code",
   "execution_count": 36,
   "metadata": {},
   "outputs": [],
   "source": [
    "my_num = 10000"
   ]
  },
  {
   "cell_type": "markdown",
   "metadata": {},
   "source": [
    "##### Type Conversion"
   ]
  },
  {
   "cell_type": "code",
   "execution_count": 38,
   "metadata": {},
   "outputs": [
    {
     "name": "stdout",
     "output_type": "stream",
     "text": [
      "10000 <class 'str'>\n",
      "<class 'str'>\n",
      "<class 'str'>\n",
      "10000 <class 'str'>\n"
     ]
    }
   ],
   "source": [
    "# str() function is out of place not changing originla type must reassign\n",
    "print(my_num, type(my_num))\n",
    "\n",
    "print(type(str(my_num)))\n",
    "\n",
    "print(type(my_num))\n",
    "\n",
    "# reassigned to converted number\n",
    "my_num = str(my_num)\n",
    "\n",
    "# type error\n",
    "# my_num + 5\n",
    "\n",
    "print(my_num, type(my_num))"
   ]
  },
  {
   "cell_type": "code",
   "execution_count": null,
   "metadata": {},
   "outputs": [],
   "source": [
    "# convert to int with int\n",
    "\n",
    "print(my_num, type(my_num))\n",
    "\n",
    "int(my_num)\n",
    "\n",
    "print(type(my_num))\n",
    "\n",
    "#reassign to new type\n",
    "my_num = int(my_num)\n",
    "\n",
    "print(type(my_num))\n",
    "\n",
    "# valueError\n",
    "# int('100andone')\n",
    "# argument must be all digits"
   ]
  },
  {
   "cell_type": "markdown",
   "metadata": {},
   "source": [
    "##### input()"
   ]
  },
  {
   "cell_type": "code",
   "execution_count": 1,
   "metadata": {},
   "outputs": [
    {
     "name": "stdout",
     "output_type": "stream",
     "text": [
      "What is your name? Khoa\n"
     ]
    }
   ],
   "source": [
    "# input() takes a promt as an argument\n",
    "# always returns a string \n",
    "\n",
    "user_name = input('What is your name? ')"
   ]
  },
  {
   "cell_type": "code",
   "execution_count": 2,
   "metadata": {},
   "outputs": [
    {
     "name": "stdout",
     "output_type": "stream",
     "text": [
      "Khoa\n"
     ]
    }
   ],
   "source": [
    "print(user_name)"
   ]
  },
  {
   "cell_type": "code",
   "execution_count": 3,
   "metadata": {},
   "outputs": [
    {
     "name": "stdout",
     "output_type": "stream",
     "text": [
      "What is your age? Enter in digits 100\n"
     ]
    }
   ],
   "source": [
    "user_age = input('What is your age? Enter in digits ')"
   ]
  },
  {
   "cell_type": "code",
   "execution_count": 4,
   "metadata": {},
   "outputs": [
    {
     "name": "stdout",
     "output_type": "stream",
     "text": [
      "101\n"
     ]
    }
   ],
   "source": [
    "user_age = int(user_age)\n",
    "user_age += 1\n",
    "print(user_age)"
   ]
  },
  {
   "cell_type": "markdown",
   "metadata": {},
   "source": [
    "##### format()"
   ]
  },
  {
   "cell_type": "code",
   "execution_count": 9,
   "metadata": {},
   "outputs": [
    {
     "name": "stdout",
     "output_type": "stream",
     "text": [
      "User Khoa is 101 years old\n"
     ]
    }
   ],
   "source": [
    "print('User {} is {} years old'.format(user_name, user_age))"
   ]
  },
  {
   "cell_type": "markdown",
   "metadata": {},
   "source": [
    "##### Old Way (python 2)"
   ]
  },
  {
   "cell_type": "code",
   "execution_count": 10,
   "metadata": {},
   "outputs": [
    {
     "name": "stdout",
     "output_type": "stream",
     "text": [
      "User Khoa is 101 years old\n"
     ]
    }
   ],
   "source": [
    "print('User %s is %s years old'% (user_name, user_age))"
   ]
  },
  {
   "cell_type": "code",
   "execution_count": 11,
   "metadata": {},
   "outputs": [
    {
     "name": "stdout",
     "output_type": "stream",
     "text": [
      "User is Khoa\n"
     ]
    }
   ],
   "source": [
    "print(f'User is {user_name}')"
   ]
  },
  {
   "cell_type": "markdown",
   "metadata": {},
   "source": [
    "# In-Class Exercise 1 <br>\n",
    "<p>Create a format statement that asks for color, year, make, model and prints out the results</p>"
   ]
  },
  {
   "cell_type": "code",
   "execution_count": 12,
   "metadata": {},
   "outputs": [
    {
     "name": "stdout",
     "output_type": "stream",
     "text": [
      "What is your car's color ?red\n",
      "What is your car's year ?2020\n",
      "What is your car's maker ?Jeep\n",
      "What is your car's model ?Wrangler\n"
     ]
    }
   ],
   "source": [
    "car_color = input(\"What is your car's color ?\")\n",
    "car_year = input(\"What is your car's year ?\")\n",
    "car_make = input(\"What is your car's maker ?\")\n",
    "car_model = input(\"What is your car's model ?\")"
   ]
  },
  {
   "cell_type": "code",
   "execution_count": 13,
   "metadata": {},
   "outputs": [
    {
     "name": "stdout",
     "output_type": "stream",
     "text": [
      "my car is red of 2020, make by Jeep, its model is Wrangler\n"
     ]
    }
   ],
   "source": [
    "print(f'my car is {car_color} of {car_year}, make by {car_make}, its model is {car_model}')"
   ]
  },
  {
   "cell_type": "markdown",
   "metadata": {},
   "source": [
    "### If Statements"
   ]
  },
  {
   "cell_type": "code",
   "execution_count": 14,
   "metadata": {},
   "outputs": [
    {
     "name": "stdout",
     "output_type": "stream",
     "text": [
      "condition true\n"
     ]
    }
   ],
   "source": [
    "# if (boolean): \n",
    "#    run action must be indented\n",
    "\n",
    "if True:\n",
    "    print('condition true')"
   ]
  },
  {
   "cell_type": "code",
   "execution_count": 23,
   "metadata": {},
   "outputs": [
    {
     "name": "stdout",
     "output_type": "stream",
     "text": [
      "five > 4\n",
      "5 == 5\n",
      "10 > 9\n",
      "10 >= 10\n",
      "10<=10\n",
      "10 != (not equal) 9\n",
      "True or False\n",
      "11 > 10 == 10\n",
      "second action\n",
      "what is your age100\n",
      "not breaking at first condition\n",
      "both true\n"
     ]
    }
   ],
   "source": [
    "# Available operators: Greater(>), Less(<),Equal(==)\n",
    "# Greater or Equal(>=), Less or Equal (<=)\n",
    "\n",
    "if 5 > 4:\n",
    "    print('five > 4')\n",
    "    \n",
    "if 5 < 4:\n",
    "    # skip action boolean/condition is false\n",
    "    print('five < 4')\n",
    "    \n",
    "if 5 == 5:\n",
    "    print('5 == 5')\n",
    "    \n",
    "if 5 + 5 > 9:\n",
    "    print('10 > 9')\n",
    "    \n",
    "if 5+5 >= 10:\n",
    "    print('10 >= 10')\n",
    "    \n",
    "if 5 + 5 <= 10:\n",
    "    print('10<=10')\n",
    "    \n",
    "if 10 != 9:\n",
    "    print('10 != (not equal) 9')\n",
    "\n",
    "\n",
    "# Truth Tree:\n",
    "# T && F = F\n",
    "# T && T = T\n",
    "# T || F = T\n",
    "# F || T = T\n",
    "# F || F = F\n",
    "\n",
    "if True and False:\n",
    "    print('True and False')\n",
    "    \n",
    "if True or False:\n",
    "    print('True or False')\n",
    "    \n",
    "# can have multiple actions until next line is on same indentation level\n",
    "if 5 + 5 == 10 and 11> 10:\n",
    "    print('11 > 10 == 10')\n",
    "    print('second action')\n",
    "    \n",
    "# T and F\n",
    "if 5 + 5 > 10 and 11 > 10:\n",
    "    print('11 > 10 == 10')\n",
    "    print('second action 2')\n",
    "    \n",
    "# first condition returns F doesn't check 2nd condition\n",
    "if 10 == 11 and int(input('what is your age')) > 18:\n",
    "    print('breaking at frist condition')\n",
    "    \n",
    "# F or T\n",
    "if 10 == 11 or int(input('what is your age')) > 18: \n",
    "    print('not breaking at first condition')\n",
    "    \n",
    "# T or T\n",
    "if 1 > 0 or 10 == 10:\n",
    "    print('both true')\n",
    "    \n",
    "# F or F\n",
    "if 1 > 2 or 2 > 3:\n",
    "    print('both true using or')\n",
    "# int(input('what is your age'))"
   ]
  },
  {
   "cell_type": "markdown",
   "metadata": {},
   "source": [
    "##### 'is' keyword\n"
   ]
  },
  {
   "cell_type": "code",
   "execution_count": 28,
   "metadata": {
    "scrolled": true
   },
   "outputs": [
    {
     "name": "stdout",
     "output_type": "stream",
     "text": [
      "[1, 2, 3, 4]\n",
      "True\n",
      "[1, 2, 3, 4, 5]\n",
      "[1, 2, 3, 4]\n"
     ]
    }
   ],
   "source": [
    "simple_list = [1,2,3,4]\n",
    "basic_list = [1,2,3,4]\n",
    "\n",
    "#True\n",
    "simple_list == basic_list\n",
    "#False\n",
    "simple_list is basic_list\n",
    "\n",
    "simple_list_copy = simple_list\n",
    "print(simple_list_copy)\n",
    "\n",
    "print(simple_list_copy is simple_list)\n",
    "# adding to same list of simple and simple copy \n",
    "simple_list.append(5)\n",
    "\n",
    "print(simple_list_copy)\n",
    "# uneffected\n",
    "print(basic_list)"
   ]
  },
  {
   "cell_type": "markdown",
   "metadata": {},
   "source": [
    "##### 'in' keyword"
   ]
  },
  {
   "cell_type": "code",
   "execution_count": 38,
   "metadata": {},
   "outputs": [
    {
     "name": "stdout",
     "output_type": "stream",
     "text": [
      "True\n",
      "False\n",
      "O N True\n",
      "False\n",
      "False\n",
      "N in Neo\n"
     ]
    }
   ],
   "source": [
    "# membership check\n",
    "\n",
    "character = 'Neo'\n",
    "print(\"N\" in character)\n",
    "# case sensitive\n",
    "print('n'.title() in character.lower())\n",
    "\n",
    "print('O', \"N\", 'E' in 'NEO')\n",
    "print('no' in 'neo')\n",
    "# out of order\n",
    "print('one' in 'neo')\n",
    "\n",
    "if 'N' in 'Neo':\n",
    "    print('N in Neo')\n"
   ]
  },
  {
   "cell_type": "code",
   "execution_count": 37,
   "metadata": {},
   "outputs": [
    {
     "name": "stdout",
     "output_type": "stream",
     "text": [
      "o true\n",
      "n true\n",
      "e true\n",
      "o true\n"
     ]
    }
   ],
   "source": [
    "for character in ['o', 'n', 'e', 'a', 'b', 'o']:\n",
    "    if character in 'neo':\n",
    "        print(f'{character} true')"
   ]
  },
  {
   "cell_type": "markdown",
   "metadata": {},
   "source": [
    "##### 'not in' keyword'"
   ]
  },
  {
   "cell_type": "code",
   "execution_count": 40,
   "metadata": {},
   "outputs": [
    {
     "name": "stdout",
     "output_type": "stream",
     "text": [
      "no z in neo\n"
     ]
    }
   ],
   "source": [
    "if 'z' not in character:\n",
    "    print('no z in neo')\n",
    "    \n",
    "if 'n' not in 'neo':\n",
    "    print('no n in neo')"
   ]
  },
  {
   "cell_type": "markdown",
   "metadata": {},
   "source": [
    "# In-Class Exercise 2 <br>\n",
    "<p>Ask user for input, check to see if the letter 'p' is in the input</p>"
   ]
  },
  {
   "cell_type": "code",
   "execution_count": 58,
   "metadata": {},
   "outputs": [
    {
     "name": "stdout",
     "output_type": "stream",
     "text": [
      "what is your name?khoa\n"
     ]
    }
   ],
   "source": [
    "user_name = input('what is your name?')\n",
    "\n",
    "\n"
   ]
  },
  {
   "cell_type": "code",
   "execution_count": 60,
   "metadata": {},
   "outputs": [
    {
     "name": "stdout",
     "output_type": "stream",
     "text": [
      "p is not in user name\n"
     ]
    }
   ],
   "source": [
    "if 'p' in user_name:\n",
    "    print('p is in user name')\n",
    "else:\n",
    "    print('p is not in user name')\n",
    "\n",
    "    "
   ]
  },
  {
   "cell_type": "markdown",
   "metadata": {},
   "source": [
    "## Using 'and'/'or' with If Statements"
   ]
  },
  {
   "cell_type": "code",
   "execution_count": 61,
   "metadata": {},
   "outputs": [],
   "source": [
    "# see above"
   ]
  },
  {
   "cell_type": "markdown",
   "metadata": {},
   "source": [
    "### Elif Statements"
   ]
  },
  {
   "cell_type": "code",
   "execution_count": 66,
   "metadata": {},
   "outputs": [
    {
     "name": "stdout",
     "output_type": "stream",
     "text": [
      "100 > 99\n",
      "1\n",
      "second true\n"
     ]
    }
   ],
   "source": [
    "if 5 + 5 == 100:\n",
    "    print('10 == 10')\n",
    "elif 100 > 99:\n",
    "    print('100 > 99')\n",
    "    \n",
    "# check both conditions do two different if\n",
    "# if 5+5 == 10:\n",
    "#     print('10 == 10')\n",
    "# if 100 > 99:\n",
    "#     print('100> 99')\n",
    "\n",
    "# chaining multiple conditions\n",
    "if False:\n",
    "    print('false')\n",
    "elif 0:\n",
    "    print('0')\n",
    "elif 1:\n",
    "    print('1')\n",
    "if True: \n",
    "    print('second true')"
   ]
  },
  {
   "cell_type": "markdown",
   "metadata": {},
   "source": [
    "### Else Statements"
   ]
  },
  {
   "cell_type": "code",
   "execution_count": 67,
   "metadata": {},
   "outputs": [
    {
     "name": "stdout",
     "output_type": "stream",
     "text": [
      "no a in morpheous\n",
      "n in neo\n",
      "no a or n in neo\n"
     ]
    }
   ],
   "source": [
    "# see above\n",
    "\n",
    "if 'a' in 'morpheous':\n",
    "    print('a in morpheous')\n",
    "else:\n",
    "    print('no a in morpheous')\n",
    "    \n",
    "if 'a' in 'neo':\n",
    "    print('a in neo')\n",
    "elif 'n' in 'neo':\n",
    "    print('n in neo')\n",
    "else:\n",
    "    print('no a or n in neo')\n",
    "\n",
    "\n",
    "# two conditions return false run else action\n",
    "if 'a' in 'neo':\n",
    "    print('a in neo')\n",
    "elif 'z' in 'neo':\n",
    "    print('n in neo')\n",
    "else:\n",
    "    print('no a or n in neo')"
   ]
  },
  {
   "cell_type": "markdown",
   "metadata": {},
   "source": [
    "### For Loops"
   ]
  },
  {
   "cell_type": "code",
   "execution_count": 71,
   "metadata": {},
   "outputs": [
    {
     "name": "stdout",
     "output_type": "stream",
     "text": [
      "n\n",
      "e\n",
      "o\n",
      " \n",
      "i\n",
      "s\n",
      " \n",
      "t\n",
      "h\n",
      "e\n",
      " \n",
      "o\n",
      "n\n",
      "e\n",
      "14\n"
     ]
    }
   ],
   "source": [
    "# for keyword, loop variable, in keyword, iterable(string, list, dictionaries, .etc)\n",
    "count = 0\n",
    "for char in 'neo is the one':\n",
    "    print(char)\n",
    "    count+=1\n",
    "print(count)"
   ]
  },
  {
   "cell_type": "code",
   "execution_count": 78,
   "metadata": {},
   "outputs": [
    {
     "name": "stdout",
     "output_type": "stream",
     "text": [
      "2\n",
      "4\n",
      "6\n",
      "8\n",
      "10\n",
      "12\n",
      "14\n",
      "16\n",
      "18\n",
      "20\n"
     ]
    }
   ],
   "source": [
    "# range is non-inclusive\n",
    "# start defaults to 0\n",
    "# for num in range(10):\n",
    "#     print(num)\n",
    "    \n",
    "#range(start, stop, step)\n",
    "# for num in range(1, 11):\n",
    "#     print(num)\n",
    "    \n",
    "for num in range(2, 21, 2):\n",
    "    print(num)"
   ]
  },
  {
   "cell_type": "markdown",
   "metadata": {},
   "source": [
    "##### Using 'in' keyword"
   ]
  },
  {
   "cell_type": "code",
   "execution_count": null,
   "metadata": {},
   "outputs": [],
   "source": [
    "# see above"
   ]
  },
  {
   "cell_type": "markdown",
   "metadata": {},
   "source": [
    "##### Continue Statement"
   ]
  },
  {
   "cell_type": "code",
   "execution_count": null,
   "metadata": {},
   "outputs": [],
   "source": [
    "# will continue to next iteration"
   ]
  },
  {
   "cell_type": "code",
   "execution_count": 79,
   "metadata": {},
   "outputs": [
    {
     "name": "stdout",
     "output_type": "stream",
     "text": [
      "0\n",
      "1\n",
      "2\n",
      "3\n",
      "4\n",
      "6\n",
      "7\n",
      "8\n",
      "9\n"
     ]
    }
   ],
   "source": [
    "for num in range(10):\n",
    "    if num == 5:\n",
    "        continue\n",
    "    print(num)"
   ]
  },
  {
   "cell_type": "markdown",
   "metadata": {},
   "source": [
    "##### Break Statement"
   ]
  },
  {
   "cell_type": "code",
   "execution_count": null,
   "metadata": {},
   "outputs": [],
   "source": [
    "# will break out of current loop"
   ]
  },
  {
   "cell_type": "code",
   "execution_count": 80,
   "metadata": {},
   "outputs": [
    {
     "name": "stdout",
     "output_type": "stream",
     "text": [
      "0\n",
      "1\n",
      "2\n",
      "3\n",
      "4\n"
     ]
    }
   ],
   "source": [
    "for num in range(10):\n",
    "    if num == 5:\n",
    "        break\n",
    "    print(num)"
   ]
  },
  {
   "cell_type": "markdown",
   "metadata": {},
   "source": [
    "##### Pass Statement"
   ]
  },
  {
   "cell_type": "code",
   "execution_count": null,
   "metadata": {},
   "outputs": [],
   "source": [
    "# mostly used as a placeholder, and will continue on same iteration"
   ]
  },
  {
   "cell_type": "code",
   "execution_count": 82,
   "metadata": {},
   "outputs": [
    {
     "name": "stdout",
     "output_type": "stream",
     "text": [
      "0\n",
      "1\n",
      "2\n",
      "3\n",
      "4\n",
      "5\n",
      "6\n",
      "7\n",
      "8\n",
      "9\n"
     ]
    }
   ],
   "source": [
    "def get_user_age():\n",
    "    pass\n",
    "\n",
    "def calculate_age():\n",
    "    pass\n",
    "\n",
    "for num in range(10):\n",
    "    if num == 5:\n",
    "        pass\n",
    "    print(num)"
   ]
  },
  {
   "cell_type": "markdown",
   "metadata": {},
   "source": [
    "##### Double For Loops"
   ]
  },
  {
   "cell_type": "code",
   "execution_count": 84,
   "metadata": {},
   "outputs": [
    {
     "name": "stdout",
     "output_type": "stream",
     "text": [
      "0 s\n",
      "0 e\n",
      "0 a\n",
      "0 n\n",
      "nested loop completed\n",
      "1 s\n",
      "1 e\n",
      "1 a\n",
      "1 n\n",
      "nested loop completed\n",
      "2 s\n",
      "2 e\n",
      "2 a\n",
      "2 n\n",
      "nested loop completed\n",
      "3 s\n",
      "3 e\n",
      "3 a\n",
      "3 n\n",
      "nested loop completed\n",
      "4 s\n",
      "4 e\n",
      "4 a\n",
      "4 n\n",
      "nested loop completed\n"
     ]
    }
   ],
   "source": [
    "for num in range(5):\n",
    "    for char in 'sean':\n",
    "        print(num, char)\n",
    "    print('nested loop completed')"
   ]
  },
  {
   "cell_type": "code",
   "execution_count": 85,
   "metadata": {},
   "outputs": [
    {
     "name": "stdout",
     "output_type": "stream",
     "text": [
      "0   0\n",
      "0   1\n",
      "0   2\n",
      "0   3\n",
      "0   4\n",
      "0   5\n",
      "0   6\n",
      "0   7\n",
      "0   8\n",
      "0   9\n",
      "nested loop completed\n",
      "1   0\n",
      "1   1\n",
      "1   2\n",
      "1   3\n",
      "1   4\n",
      "1   5\n",
      "1   6\n",
      "1   7\n",
      "1   8\n",
      "1   9\n",
      "nested loop completed\n",
      "2   0\n",
      "2   1\n",
      "2   2\n",
      "2   3\n",
      "2   4\n",
      "2   5\n",
      "2   6\n",
      "2   7\n",
      "2   8\n",
      "2   9\n",
      "nested loop completed\n",
      "3   0\n",
      "3   1\n",
      "3   2\n",
      "3   3\n",
      "3   4\n",
      "3   5\n",
      "3   6\n",
      "3   7\n",
      "3   8\n",
      "3   9\n",
      "nested loop completed\n",
      "4   0\n",
      "4   1\n",
      "4   2\n",
      "4   3\n",
      "4   4\n",
      "4   5\n",
      "4   6\n",
      "4   7\n",
      "4   8\n",
      "4   9\n",
      "nested loop completed\n",
      "5   0\n",
      "5   1\n",
      "5   2\n",
      "5   3\n",
      "5   4\n",
      "5   5\n",
      "5   6\n",
      "5   7\n",
      "5   8\n",
      "5   9\n",
      "nested loop completed\n",
      "6   0\n",
      "6   1\n",
      "6   2\n",
      "6   3\n",
      "6   4\n",
      "6   5\n",
      "6   6\n",
      "6   7\n",
      "6   8\n",
      "6   9\n",
      "nested loop completed\n",
      "7   0\n",
      "7   1\n",
      "7   2\n",
      "7   3\n",
      "7   4\n",
      "7   5\n",
      "7   6\n",
      "7   7\n",
      "7   8\n",
      "7   9\n",
      "nested loop completed\n",
      "8   0\n",
      "8   1\n",
      "8   2\n",
      "8   3\n",
      "8   4\n",
      "8   5\n",
      "8   6\n",
      "8   7\n",
      "8   8\n",
      "8   9\n",
      "nested loop completed\n",
      "9   0\n",
      "9   1\n",
      "9   2\n",
      "9   3\n",
      "9   4\n",
      "9   5\n",
      "9   6\n",
      "9   7\n",
      "9   8\n",
      "9   9\n",
      "nested loop completed\n"
     ]
    }
   ],
   "source": [
    "for x in range(10):\n",
    "    for y in range(10):\n",
    "        print(x,' ', y)\n",
    "    print('nested loop completed')"
   ]
  },
  {
   "cell_type": "markdown",
   "metadata": {},
   "source": [
    "### While Loops"
   ]
  },
  {
   "cell_type": "code",
   "execution_count": null,
   "metadata": {},
   "outputs": [],
   "source": [
    "# key while, condition to keep looping\n",
    "\n",
    "while num < 100:\n",
    "    print(num)\n",
    "    num += 1"
   ]
  },
  {
   "cell_type": "markdown",
   "metadata": {},
   "source": [
    "##### Looping 'While True'"
   ]
  },
  {
   "cell_type": "code",
   "execution_count": 88,
   "metadata": {},
   "outputs": [
    {
     "name": "stdout",
     "output_type": "stream",
     "text": [
      "hello 0\n",
      "hello 1\n",
      "hello 2\n",
      "hello 3\n",
      "hello 4\n",
      "hello 5\n",
      "hello 6\n",
      "hello 7\n",
      "hello 8\n",
      "hello 9\n",
      "hello 10\n",
      "hello 11\n",
      "hello 12\n",
      "hello 13\n",
      "hello 14\n",
      "hello 15\n",
      "hello 16\n",
      "hello 17\n",
      "hello 18\n",
      "hello 19\n",
      "hello 20\n",
      "hello 21\n",
      "hello 22\n",
      "hello 23\n",
      "hello 24\n",
      "hello 25\n",
      "hello 26\n",
      "hello 27\n",
      "hello 28\n",
      "hello 29\n",
      "hello 30\n",
      "hello 31\n",
      "hello 32\n",
      "hello 33\n",
      "hello 34\n",
      "hello 35\n",
      "hello 36\n",
      "hello 37\n",
      "hello 38\n",
      "hello 39\n",
      "hello 40\n",
      "hello 41\n",
      "hello 42\n",
      "hello 43\n",
      "hello 44\n",
      "hello 45\n",
      "hello 46\n",
      "hello 47\n",
      "hello 48\n",
      "hello 49\n",
      "hello 50\n",
      "hello 51\n",
      "hello 52\n",
      "hello 53\n",
      "hello 54\n",
      "hello 55\n",
      "hello 56\n",
      "hello 57\n",
      "hello 58\n",
      "hello 59\n",
      "hello 60\n",
      "hello 61\n",
      "hello 62\n",
      "hello 63\n",
      "hello 64\n",
      "hello 65\n",
      "hello 66\n",
      "hello 67\n",
      "hello 68\n",
      "hello 69\n",
      "hello 70\n",
      "hello 71\n",
      "hello 72\n",
      "hello 73\n",
      "hello 74\n",
      "hello 75\n",
      "hello 76\n",
      "hello 77\n",
      "hello 78\n",
      "hello 79\n",
      "hello 80\n",
      "hello 81\n",
      "hello 82\n",
      "hello 83\n",
      "hello 84\n",
      "hello 85\n",
      "hello 86\n",
      "hello 87\n",
      "hello 88\n",
      "hello 89\n",
      "hello 90\n",
      "hello 91\n",
      "hello 92\n",
      "hello 93\n",
      "hello 94\n",
      "hello 95\n",
      "hello 96\n",
      "hello 97\n",
      "hello 98\n",
      "hello 99\n"
     ]
    }
   ],
   "source": [
    "# use break to exit while loop, if there is no condition to break inline with while\n",
    "i = 0\n",
    "while True: \n",
    "    print('hello', i)\n",
    "    i += 1\n",
    "    if i == 100:\n",
    "        break"
   ]
  },
  {
   "cell_type": "markdown",
   "metadata": {},
   "source": [
    "##### While & For Loops Used Together"
   ]
  },
  {
   "cell_type": "code",
   "execution_count": null,
   "metadata": {},
   "outputs": [],
   "source": [
    "while 3>0:\n",
    "    for n in range():\n",
    "        pass"
   ]
  },
  {
   "cell_type": "markdown",
   "metadata": {},
   "source": [
    "### Built-In Functions"
   ]
  },
  {
   "cell_type": "markdown",
   "metadata": {},
   "source": [
    "##### range()"
   ]
  },
  {
   "cell_type": "code",
   "execution_count": null,
   "metadata": {},
   "outputs": [],
   "source": [
    "# range(start, stop, step)\n",
    "# only one require argument- would be stop\n",
    "# start defaults to 0 and step defaults to 1\n",
    "print(range(10))"
   ]
  },
  {
   "cell_type": "markdown",
   "metadata": {},
   "source": [
    "##### len()"
   ]
  },
  {
   "cell_type": "code",
   "execution_count": 97,
   "metadata": {},
   "outputs": [
    {
     "name": "stdout",
     "output_type": "stream",
     "text": [
      "0 s\n",
      "1 e\n",
      "2 a\n",
      "3 n\n",
      "4  \n",
      "5 c\n",
      "6 u\n",
      "7 r\n",
      "8 r\n",
      "9 i\n",
      "10 e\n"
     ]
    }
   ],
   "source": [
    "len('sean currie')\n",
    "instructor = 'sean currie'\n",
    "for i in range(len(instructor)):\n",
    "    print(i, end=' ')\n",
    "    print(instructor[i])"
   ]
  },
  {
   "cell_type": "markdown",
   "metadata": {},
   "source": [
    "##### help()"
   ]
  },
  {
   "cell_type": "code",
   "execution_count": 98,
   "metadata": {},
   "outputs": [
    {
     "name": "stdout",
     "output_type": "stream",
     "text": [
      "Help on class range in module builtins:\n",
      "\n",
      "class range(object)\n",
      " |  range(stop) -> range object\n",
      " |  range(start, stop[, step]) -> range object\n",
      " |  \n",
      " |  Return an object that produces a sequence of integers from start (inclusive)\n",
      " |  to stop (exclusive) by step.  range(i, j) produces i, i+1, i+2, ..., j-1.\n",
      " |  start defaults to 0, and stop is omitted!  range(4) produces 0, 1, 2, 3.\n",
      " |  These are exactly the valid indices for a list of 4 elements.\n",
      " |  When step is given, it specifies the increment (or decrement).\n",
      " |  \n",
      " |  Methods defined here:\n",
      " |  \n",
      " |  __bool__(self, /)\n",
      " |      True if self else False\n",
      " |  \n",
      " |  __contains__(self, key, /)\n",
      " |      Return key in self.\n",
      " |  \n",
      " |  __eq__(self, value, /)\n",
      " |      Return self==value.\n",
      " |  \n",
      " |  __ge__(self, value, /)\n",
      " |      Return self>=value.\n",
      " |  \n",
      " |  __getattribute__(self, name, /)\n",
      " |      Return getattr(self, name).\n",
      " |  \n",
      " |  __getitem__(self, key, /)\n",
      " |      Return self[key].\n",
      " |  \n",
      " |  __gt__(self, value, /)\n",
      " |      Return self>value.\n",
      " |  \n",
      " |  __hash__(self, /)\n",
      " |      Return hash(self).\n",
      " |  \n",
      " |  __iter__(self, /)\n",
      " |      Implement iter(self).\n",
      " |  \n",
      " |  __le__(self, value, /)\n",
      " |      Return self<=value.\n",
      " |  \n",
      " |  __len__(self, /)\n",
      " |      Return len(self).\n",
      " |  \n",
      " |  __lt__(self, value, /)\n",
      " |      Return self<value.\n",
      " |  \n",
      " |  __ne__(self, value, /)\n",
      " |      Return self!=value.\n",
      " |  \n",
      " |  __reduce__(...)\n",
      " |      Helper for pickle.\n",
      " |  \n",
      " |  __repr__(self, /)\n",
      " |      Return repr(self).\n",
      " |  \n",
      " |  __reversed__(...)\n",
      " |      Return a reverse iterator.\n",
      " |  \n",
      " |  count(...)\n",
      " |      rangeobject.count(value) -> integer -- return number of occurrences of value\n",
      " |  \n",
      " |  index(...)\n",
      " |      rangeobject.index(value) -> integer -- return index of value.\n",
      " |      Raise ValueError if the value is not present.\n",
      " |  \n",
      " |  ----------------------------------------------------------------------\n",
      " |  Static methods defined here:\n",
      " |  \n",
      " |  __new__(*args, **kwargs) from builtins.type\n",
      " |      Create and return a new object.  See help(type) for accurate signature.\n",
      " |  \n",
      " |  ----------------------------------------------------------------------\n",
      " |  Data descriptors defined here:\n",
      " |  \n",
      " |  start\n",
      " |  \n",
      " |  step\n",
      " |  \n",
      " |  stop\n",
      "\n"
     ]
    }
   ],
   "source": [
    "help(range)"
   ]
  },
  {
   "cell_type": "markdown",
   "metadata": {},
   "source": [
    "##### isinstance()"
   ]
  },
  {
   "cell_type": "code",
   "execution_count": 102,
   "metadata": {},
   "outputs": [
    {
     "name": "stdout",
     "output_type": "stream",
     "text": [
      "True\n",
      "False\n"
     ]
    }
   ],
   "source": [
    "type(instructor)\n",
    "\n",
    "print(isinstance(instructor, str))\n",
    "print(isinstance(instructor, int))"
   ]
  },
  {
   "cell_type": "markdown",
   "metadata": {},
   "source": [
    "##### abs()"
   ]
  },
  {
   "cell_type": "code",
   "execution_count": 105,
   "metadata": {},
   "outputs": [
    {
     "data": {
      "text/plain": [
       "True"
      ]
     },
     "execution_count": 105,
     "metadata": {},
     "output_type": "execute_result"
    }
   ],
   "source": [
    "abs(-5)==abs(5)"
   ]
  },
  {
   "cell_type": "markdown",
   "metadata": {},
   "source": [
    "### Try and Except"
   ]
  },
  {
   "cell_type": "code",
   "execution_count": 109,
   "metadata": {},
   "outputs": [
    {
     "name": "stdout",
     "output_type": "stream",
     "text": [
      "what is your age?akdf\n",
      "Error enter age in digits\n",
      "what is your age?akdsf\n",
      "Error enter age in digits\n",
      "what is your age?12\n"
     ]
    }
   ],
   "source": [
    "while True:\n",
    "    try:\n",
    "        user_age = int(input('what is your age?'))\n",
    "        break\n",
    "    except:\n",
    "        print('Error enter age in digits')\n",
    "    "
   ]
  },
  {
   "cell_type": "markdown",
   "metadata": {},
   "source": [
    "### Lists"
   ]
  },
  {
   "cell_type": "markdown",
   "metadata": {},
   "source": [
    "##### Declaring Lists"
   ]
  },
  {
   "cell_type": "code",
   "execution_count": null,
   "metadata": {},
   "outputs": [],
   "source": []
  },
  {
   "cell_type": "markdown",
   "metadata": {},
   "source": [
    "##### Indexing a List"
   ]
  },
  {
   "cell_type": "code",
   "execution_count": null,
   "metadata": {},
   "outputs": [],
   "source": []
  },
  {
   "cell_type": "markdown",
   "metadata": {},
   "source": [
    "##### .append()"
   ]
  },
  {
   "cell_type": "code",
   "execution_count": null,
   "metadata": {},
   "outputs": [],
   "source": []
  },
  {
   "cell_type": "markdown",
   "metadata": {},
   "source": [
    "##### .insert()"
   ]
  },
  {
   "cell_type": "code",
   "execution_count": null,
   "metadata": {},
   "outputs": [],
   "source": []
  },
  {
   "cell_type": "markdown",
   "metadata": {},
   "source": [
    "##### .pop()"
   ]
  },
  {
   "cell_type": "code",
   "execution_count": null,
   "metadata": {},
   "outputs": [],
   "source": []
  },
  {
   "cell_type": "markdown",
   "metadata": {},
   "source": [
    "\n",
    "##### .remove()"
   ]
  },
  {
   "cell_type": "code",
   "execution_count": null,
   "metadata": {},
   "outputs": [],
   "source": []
  },
  {
   "cell_type": "markdown",
   "metadata": {},
   "source": [
    "##### del()"
   ]
  },
  {
   "cell_type": "code",
   "execution_count": null,
   "metadata": {},
   "outputs": [],
   "source": []
  },
  {
   "cell_type": "markdown",
   "metadata": {},
   "source": [
    "##### Concatenating Two Lists"
   ]
  },
  {
   "cell_type": "code",
   "execution_count": null,
   "metadata": {},
   "outputs": [],
   "source": []
  },
  {
   "cell_type": "markdown",
   "metadata": {},
   "source": [
    "##### Lists Within Lists"
   ]
  },
  {
   "cell_type": "code",
   "execution_count": null,
   "metadata": {},
   "outputs": [],
   "source": []
  },
  {
   "cell_type": "markdown",
   "metadata": {},
   "source": [
    "##### Looping Through Lists"
   ]
  },
  {
   "cell_type": "code",
   "execution_count": null,
   "metadata": {},
   "outputs": [],
   "source": []
  },
  {
   "cell_type": "markdown",
   "metadata": {},
   "source": [
    "## Exercise #1 <br>\n",
    "<p>Cube Number Test... Print out all cubed numbers up to the total value 1000. Meaning that if the cubed number is over 1000 break the loop.</p>"
   ]
  },
  {
   "cell_type": "code",
   "execution_count": 116,
   "metadata": {},
   "outputs": [
    {
     "name": "stdout",
     "output_type": "stream",
     "text": [
      "1\n",
      "2\n",
      "3\n",
      "4\n",
      "5\n",
      "6\n",
      "7\n",
      "8\n",
      "9\n",
      "10\n"
     ]
    }
   ],
   "source": [
    "i = 0\n",
    "while i >= 0:\n",
    "    i += 1\n",
    "    if i**3 > 1000:\n",
    "        break\n",
    "    print(i)"
   ]
  },
  {
   "cell_type": "markdown",
   "metadata": {},
   "source": [
    "## Exercise #2 <br>\n",
    "<p>Get first prime numbers up to 100</p>"
   ]
  },
  {
   "cell_type": "code",
   "execution_count": 196,
   "metadata": {},
   "outputs": [
    {
     "name": "stdout",
     "output_type": "stream",
     "text": [
      "0\n",
      "1\n",
      "2\n",
      "3\n",
      "5\n",
      "7\n",
      "11\n",
      "13\n",
      "17\n",
      "19\n",
      "23\n",
      "29\n",
      "31\n",
      "37\n",
      "41\n",
      "43\n",
      "47\n",
      "53\n",
      "59\n",
      "61\n",
      "67\n",
      "71\n",
      "73\n",
      "79\n",
      "83\n",
      "89\n",
      "97\n"
     ]
    }
   ],
   "source": [
    "# HINT::\n",
    "# An else after an if runs if the if didn’t\n",
    "# An else after a for runs if the for didn’t break\n",
    "for i in range(0, 101):\n",
    "    count = 0\n",
    "    for x in range(2, i):\n",
    "        if i % x == 0:\n",
    "            count += 1\n",
    "            break\n",
    "    if count == 0:\n",
    "        print(i)\n",
    "        \n",
    "            \n",
    "\n",
    "            \n",
    "            \n",
    "            \n",
    "    \n",
    "        \n",
    "\n",
    "\n"
   ]
  },
  {
   "cell_type": "markdown",
   "metadata": {},
   "source": [
    "# Exercise 3 <br>\n",
    "<p>Take in a users input for their age, if they are younger than 18 print kids, if they're 18 to 65 print adults, else print seniors</p>"
   ]
  },
  {
   "cell_type": "code",
   "execution_count": 200,
   "metadata": {},
   "outputs": [
    {
     "name": "stdout",
     "output_type": "stream",
     "text": [
      "What is your age?66\n",
      "senior\n"
     ]
    }
   ],
   "source": [
    "user_age = int(input('What is your age?'))\n",
    "\n",
    "if user_age < 18:\n",
    "    print('kids')\n",
    "elif 18 <= user_age <= 65:\n",
    "    print('adults')\n",
    "else:\n",
    "    print('senior')"
   ]
  },
  {
   "cell_type": "code",
   "execution_count": null,
   "metadata": {},
   "outputs": [],
   "source": []
  },
  {
   "cell_type": "code",
   "execution_count": null,
   "metadata": {},
   "outputs": [],
   "source": []
  }
 ],
 "metadata": {
  "kernelspec": {
   "display_name": "Python 3 (ipykernel)",
   "language": "python",
   "name": "python3"
  },
  "language_info": {
   "codemirror_mode": {
    "name": "ipython",
    "version": 3
   },
   "file_extension": ".py",
   "mimetype": "text/x-python",
   "name": "python",
   "nbconvert_exporter": "python",
   "pygments_lexer": "ipython3",
   "version": "3.10.9"
  }
 },
 "nbformat": 4,
 "nbformat_minor": 2
}
